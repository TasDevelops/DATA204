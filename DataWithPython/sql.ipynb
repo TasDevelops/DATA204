{
 "cells": [
  {
   "cell_type": "code",
   "execution_count": 2,
   "metadata": {},
   "outputs": [
    {
     "name": "stdout",
     "output_type": "stream",
     "text": [
      "Collecting pypyodbc\n",
      "  Downloading pypyodbc-1.3.6.tar.gz (24 kB)\n",
      "  Preparing metadata (setup.py): started\n",
      "  Preparing metadata (setup.py): finished with status 'done'\n",
      "Requirement already satisfied: setuptools in c:\\users\\tasnim mohamed\\appdata\\local\\programs\\python\\python310\\lib\\site-packages (from pypyodbc) (65.5.0)\n",
      "Installing collected packages: pypyodbc\n",
      "  Running setup.py install for pypyodbc: started\n",
      "  Running setup.py install for pypyodbc: finished with status 'done'\n",
      "Successfully installed pypyodbc-1.3.6\n",
      "Note: you may need to restart the kernel to use updated packages.\n"
     ]
    },
    {
     "name": "stderr",
     "output_type": "stream",
     "text": [
      "  DEPRECATION: pypyodbc is being installed using the legacy 'setup.py install' method, because it does not have a 'pyproject.toml' and the 'wheel' package is not installed. pip 23.1 will enforce this behaviour change. A possible replacement is to enable the '--use-pep517' option. Discussion can be found at https://github.com/pypa/pip/issues/8559\n"
     ]
    }
   ],
   "source": [
    "pip install pypyodbc"
   ]
  },
  {
   "cell_type": "code",
   "execution_count": null,
   "metadata": {},
   "outputs": [
    {
     "ename": "Error",
     "evalue": "('01S00', '[01S00] [Microsoft][ODBC Driver Manager] Invalid connection string attribute (0) (SQLDriverConnect)')",
     "output_type": "error",
     "traceback": [
      "\u001b[1;31m---------------------------------------------------------------------------\u001b[0m",
      "\u001b[1;31mError\u001b[0m                                     Traceback (most recent call last)",
      "Cell \u001b[1;32mIn[9], line 2\u001b[0m\n\u001b[0;32m      1\u001b[0m \u001b[39mimport\u001b[39;00m \u001b[39mpyodbc\u001b[39;00m\n\u001b[1;32m----> 2\u001b[0m conn \u001b[39m=\u001b[39m pyodbc\u001b[39m.\u001b[39;49mconnect(\u001b[39m\"\u001b[39;49m\u001b[39mDRIVER=\u001b[39;49m\u001b[39m{\u001b[39;49m\u001b[39mODBC Driver 17 for SQL Server}\u001b[39;49m\u001b[39m\"\u001b[39;49m\n\u001b[0;32m      3\u001b[0m                         \u001b[39m\"\u001b[39;49m\u001b[39mServer=LAPTOP-UG1J7I3T;\u001b[39;49m\u001b[39m\"\u001b[39;49m\n\u001b[0;32m      4\u001b[0m                         \u001b[39m\"\u001b[39;49m\u001b[39mDatabase=Northwind\u001b[39;49m\u001b[39m\"\u001b[39;49m\n\u001b[0;32m      5\u001b[0m                         \u001b[39m\"\u001b[39;49m\u001b[39mTrusted_Connection=yes;\u001b[39;49m\u001b[39m\"\u001b[39;49m)\n\u001b[0;32m      6\u001b[0m cursor \u001b[39m=\u001b[39m conn\u001b[39m.\u001b[39mcursor()\n\u001b[0;32m      7\u001b[0m cursor\u001b[39m.\u001b[39mexecute(\u001b[39m\"\u001b[39m\u001b[39mSELECT TOP 10 CompanyName,ContactName,Address,City FROM Customers\u001b[39m\u001b[39m\"\u001b[39m)\n",
      "\u001b[1;31mError\u001b[0m: ('01S00', '[01S00] [Microsoft][ODBC Driver Manager] Invalid connection string attribute (0) (SQLDriverConnect)')"
     ]
    }
   ],
   "source": [
    "import pyodbc\n",
    "conn = pyodbc.connect(\"DRIVER={ODBC Driver 17 for SQL Server}\"\n",
    "                        \"Server=LAPTOP-UG1J7I3T;\"\n",
    "                        \"Database=Northwind\"\n",
    "                        \"Trusted_Connection=yes;\")\n",
    "cursor = conn.cursor()\n",
    "cursor.execute(\"SELECT TOP 10 CompanyName,ContactName,Address,City FROM Customers\")\n",
    "for row in cursor:\n",
    "    print(\"row = %r\" %(row))"
   ]
  },
  {
   "cell_type": "code",
   "execution_count": 10,
   "metadata": {},
   "outputs": [
    {
     "ename": "OperationalError",
     "evalue": "('08001', '[08001] [Microsoft][ODBC SQL Server Driver][Shared Memory]SQL Server does not exist or access denied. (17) (SQLDriverConnect); [08001] [Microsoft][ODBC SQL Server Driver][Shared Memory]ConnectionOpen (Connect()). (2); [08001] [Microsoft][ODBC SQL Server Driver]Invalid connection string attribute (0)')",
     "output_type": "error",
     "traceback": [
      "\u001b[1;31m---------------------------------------------------------------------------\u001b[0m",
      "\u001b[1;31mOperationalError\u001b[0m                          Traceback (most recent call last)",
      "Cell \u001b[1;32mIn[10], line 16\u001b[0m\n\u001b[0;32m      5\u001b[0m \u001b[39m#uid=<username>;\u001b[39;00m\n\u001b[0;32m      6\u001b[0m \u001b[39m#pwd=<password>;\u001b[39;00m\n\u001b[0;32m      8\u001b[0m connection_string \u001b[39m=\u001b[39m \u001b[39mf\u001b[39m\u001b[39m\"\"\"\u001b[39m\n\u001b[0;32m      9\u001b[0m \u001b[39mDRIVER= \u001b[39m\u001b[39m{{\u001b[39;00m\u001b[39m{\u001b[39;00mDRIVER_NAME\u001b[39m}\u001b[39;00m\u001b[39m}}\u001b[39;00m\u001b[39m;\u001b[39m\n\u001b[0;32m     10\u001b[0m \u001b[39mSERVER=\u001b[39m\u001b[39m{\u001b[39;00mSERVER_NAME\u001b[39m}\u001b[39;00m\u001b[39m;\u001b[39m\n\u001b[1;32m   (...)\u001b[0m\n\u001b[0;32m     13\u001b[0m \n\u001b[0;32m     14\u001b[0m \u001b[39m\"\"\"\u001b[39m\n\u001b[1;32m---> 16\u001b[0m conn \u001b[39m=\u001b[39m pyodbc\u001b[39m.\u001b[39;49mconnect(connection_string)\n\u001b[0;32m     17\u001b[0m \u001b[39mprint\u001b[39m(conn)\n",
      "\u001b[1;31mOperationalError\u001b[0m: ('08001', '[08001] [Microsoft][ODBC SQL Server Driver][Shared Memory]SQL Server does not exist or access denied. (17) (SQLDriverConnect); [08001] [Microsoft][ODBC SQL Server Driver][Shared Memory]ConnectionOpen (Connect()). (2); [08001] [Microsoft][ODBC SQL Server Driver]Invalid connection string attribute (0)')"
     ]
    }
   ],
   "source": [
    "DRIVER_NAME = 'SQL SERVER'\n",
    "SERVER_NAME ='LAPTOP-UG1J7I3T'\n",
    "DATABASE_NAME =  'Tasnim SQL'\n",
    "\n",
    "#uid=<username>;\n",
    "#pwd=<password>;\n",
    "\n",
    "connection_string = f\"\"\"\n",
    "DRIVER= {{{DRIVER_NAME}}};\n",
    "SERVER={SERVER_NAME};\n",
    "DATABASE={DATABASE_NAME};\n",
    "Trust_Connection=yes;\n",
    "\n",
    "\"\"\"\n",
    "\n",
    "conn = pyodbc.connect(connection_string)\n",
    "print(conn)"
   ]
  },
  {
   "cell_type": "code",
   "execution_count": null,
   "metadata": {},
   "outputs": [],
   "source": []
  }
 ],
 "metadata": {
  "kernelspec": {
   "display_name": "Python 3",
   "language": "python",
   "name": "python3"
  },
  "language_info": {
   "codemirror_mode": {
    "name": "ipython",
    "version": 3
   },
   "file_extension": ".py",
   "mimetype": "text/x-python",
   "name": "python",
   "nbconvert_exporter": "python",
   "pygments_lexer": "ipython3",
   "version": "3.10.9"
  },
  "orig_nbformat": 4,
  "vscode": {
   "interpreter": {
    "hash": "41019fb31f1aec115e4a243fbc676050df8a6109af9222662c9e55a9b452a2fd"
   }
  }
 },
 "nbformat": 4,
 "nbformat_minor": 2
}
