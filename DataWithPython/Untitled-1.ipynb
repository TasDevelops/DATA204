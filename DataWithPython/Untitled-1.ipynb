{
 "cells": [
  {
   "cell_type": "code",
   "execution_count": 31,
   "metadata": {},
   "outputs": [],
   "source": [
    "import pymongo\n",
    "import json\n",
    "import requests\n"
   ]
  },
  {
   "cell_type": "code",
   "execution_count": 32,
   "metadata": {},
   "outputs": [
    {
     "name": "stdout",
     "output_type": "stream",
     "text": [
      "Connected successfully!\n"
     ]
    }
   ],
   "source": [
    "try:\n",
    "    client = pymongo.MongoClient()\n",
    "    print(\"Connected successfully!\")\n",
    "except:\n",
    "    print(\"Could not connect to MongoDB\")\n",
    "db = client['starwars']\n",
    "col = db[\"starships\"]  #creating starships collection\n",
    "\n",
    "characters = db.characters.find({})"
   ]
  },
  {
   "cell_type": "code",
   "execution_count": 33,
   "metadata": {},
   "outputs": [
    {
     "name": "stdout",
     "output_type": "stream",
     "text": [
      "Retrieving original search results\n"
     ]
    }
   ],
   "source": [
    "\n",
    "print(\"Retrieving original search results\")\n",
    "\n",
    "def scrape():\n",
    "    starship_pages=[]\n",
    "    response = requests.get(\"https://swapi.dev/api/starships/\")\n",
    "    while data['next'] is not None:\n",
    "        print(\"retrieving next page\", data[\"next\"])\n",
    "        response = requests.get(data[\"next\"])\n",
    "        data = response.json()\n",
    "        for i in data[\"results\"]:\n",
    "            starship_pages.append(i[\"url\"])\n",
    "    return starship_pages"
   ]
  },
  {
   "cell_type": "code",
   "execution_count": 34,
   "metadata": {},
   "outputs": [],
   "source": [
    "def pilots(starship_pages):\n",
    "    starships = []\n",
    "    for s in starship_pages():\n",
    "        page = requests.get(s)\n",
    "        page = page.json()\n",
    "        result = page['result']\n",
    "        info = result['info']\n",
    "        url = info[\"pilots\"]\n",
    "        pilots = []\n",
    "        for i in url:\n",
    "            pilot_content = requests.get(i)\n",
    "            pilot_content = pilot_content.json()\n",
    "            pilots.append(pilot_content['result']['properties']['name'])\n",
    "        id = []\n",
    "        for p in pilots:\n",
    "            for name in db.characters.find({'name': i}):\n",
    "                id.append(name[\"_id\"])\n",
    "        page['result']['properties']['pilots'] = id\n",
    "        starships.append(page)\n",
    "    return starships\n",
    "\n",
    "\n"
   ]
  },
  {
   "cell_type": "code",
   "execution_count": 36,
   "metadata": {},
   "outputs": [
    {
     "name": "stdout",
     "output_type": "stream",
     "text": [
      "Connected successfully!\n",
      "Retrieving original search results\n"
     ]
    },
    {
     "ename": "UnboundLocalError",
     "evalue": "local variable 'data' referenced before assignment",
     "output_type": "error",
     "traceback": [
      "\u001b[1;31m---------------------------------------------------------------------------\u001b[0m",
      "\u001b[1;31mUnboundLocalError\u001b[0m                         Traceback (most recent call last)",
      "Cell \u001b[1;32mIn[36], line 55\u001b[0m\n\u001b[0;32m     52\u001b[0m db\u001b[39m.\u001b[39mcreate_collection(\u001b[39m\"\u001b[39m\u001b[39mstarships\u001b[39m\u001b[39m\"\u001b[39m)  \u001b[39m#creating starships collection\u001b[39;00m\n\u001b[0;32m     54\u001b[0m \u001b[39m# Step 8 - All starships are added to the Starship collection on Mongodb:\u001b[39;00m\n\u001b[1;32m---> 55\u001b[0m \u001b[39mfor\u001b[39;00m p \u001b[39min\u001b[39;00m pilots():\n\u001b[0;32m     56\u001b[0m     db\u001b[39m.\u001b[39mstarships\u001b[39m.\u001b[39minsert_one(p)\n\u001b[0;32m     58\u001b[0m \u001b[39mprint\u001b[39m(\u001b[39m\"\u001b[39m\u001b[39mAll starships have been now added\u001b[39m\u001b[39m\"\u001b[39m)\n",
      "Cell \u001b[1;32mIn[36], line 30\u001b[0m, in \u001b[0;36mpilots\u001b[1;34m()\u001b[0m\n\u001b[0;32m     28\u001b[0m \u001b[39mdef\u001b[39;00m \u001b[39mpilots\u001b[39m():\n\u001b[0;32m     29\u001b[0m     starships \u001b[39m=\u001b[39m []\n\u001b[1;32m---> 30\u001b[0m     \u001b[39mfor\u001b[39;00m s \u001b[39min\u001b[39;00m scrape():\n\u001b[0;32m     31\u001b[0m         page \u001b[39m=\u001b[39m requests\u001b[39m.\u001b[39mget(s)\n\u001b[0;32m     32\u001b[0m         page \u001b[39m=\u001b[39m page\u001b[39m.\u001b[39mjson()\n",
      "Cell \u001b[1;32mIn[36], line 19\u001b[0m, in \u001b[0;36mscrape\u001b[1;34m()\u001b[0m\n\u001b[0;32m     17\u001b[0m starship_pages\u001b[39m=\u001b[39m[]\n\u001b[0;32m     18\u001b[0m response \u001b[39m=\u001b[39m requests\u001b[39m.\u001b[39mget(\u001b[39m\"\u001b[39m\u001b[39mhttps://swapi.dev/api/starships/\u001b[39m\u001b[39m\"\u001b[39m)\n\u001b[1;32m---> 19\u001b[0m \u001b[39mwhile\u001b[39;00m data[\u001b[39m'\u001b[39m\u001b[39mnext\u001b[39m\u001b[39m'\u001b[39m] \u001b[39mis\u001b[39;00m \u001b[39mnot\u001b[39;00m \u001b[39mNone\u001b[39;00m:\n\u001b[0;32m     20\u001b[0m     \u001b[39mprint\u001b[39m(\u001b[39m\"\u001b[39m\u001b[39mretrieving next page\u001b[39m\u001b[39m\"\u001b[39m, data[\u001b[39m\"\u001b[39m\u001b[39mnext\u001b[39m\u001b[39m\"\u001b[39m])\n\u001b[0;32m     21\u001b[0m     response \u001b[39m=\u001b[39m requests\u001b[39m.\u001b[39mget(data[\u001b[39m\"\u001b[39m\u001b[39mnext\u001b[39m\u001b[39m\"\u001b[39m])\n",
      "\u001b[1;31mUnboundLocalError\u001b[0m: local variable 'data' referenced before assignment"
     ]
    }
   ],
   "source": [
    "import pymongo\n",
    "import json\n",
    "import requests\n",
    "\n",
    "try:\n",
    "    client = pymongo.MongoClient()\n",
    "    print(\"Connected successfully!\")\n",
    "except:\n",
    "    print(\"Could not connect to MongoDB\")\n",
    "db = client['starwars']\n",
    "characters = db.characters.find({})\n",
    "\n",
    "\n",
    "print(\"Retrieving original search results\")\n",
    "\n",
    "def scrape():\n",
    "    starship_pages=[]\n",
    "    response = requests.get(\"https://swapi.dev/api/starships/\")\n",
    "    while data['next'] is not None:\n",
    "        print(\"retrieving next page\", data[\"next\"])\n",
    "        response = requests.get(data[\"next\"])\n",
    "        data = response.json()\n",
    "        for i in data[\"results\"]:\n",
    "            starship_pages.append(i[\"url\"])\n",
    "    return starship_pages\n",
    "\n",
    "\n",
    "def pilots():\n",
    "    starships = []\n",
    "    for s in scrape():\n",
    "        page = requests.get(s)\n",
    "        page = page.json()\n",
    "        result = page['result']\n",
    "        info = result['info']\n",
    "        url = info[\"pilots\"]\n",
    "        pilots = []\n",
    "        for i in url:\n",
    "            pilot_content = requests.get(i)\n",
    "            pilot_content = pilot_content.json()\n",
    "            pilots.append(pilot_content['result']['properties']['name'])\n",
    "        id = []\n",
    "        for p in pilots:\n",
    "            for name in db.characters.find({'name': i}):\n",
    "                id.append(name[\"_id\"])\n",
    "        page['result']['properties']['pilots'] = id\n",
    "        starships.append(page)\n",
    "    return starships\n",
    "\n",
    "\n",
    "db.drop_collection(\"starships\")\n",
    "\n",
    "db.create_collection(\"starships\")  #creating starships collection\n",
    "\n",
    "# Step 8 - All starships are added to the Starship collection on Mongodb:\n",
    "for p in pilots():\n",
    "    db.starships.insert_one(p)\n",
    "\n",
    "print(\"All starships have been now added\")\n",
    "\n",
    "\n"
   ]
  },
  {
   "cell_type": "code",
   "execution_count": 37,
   "metadata": {},
   "outputs": [
    {
     "ename": "UnboundLocalError",
     "evalue": "local variable 'data' referenced before assignment",
     "output_type": "error",
     "traceback": [
      "\u001b[1;31m---------------------------------------------------------------------------\u001b[0m",
      "\u001b[1;31mUnboundLocalError\u001b[0m                         Traceback (most recent call last)",
      "Cell \u001b[1;32mIn[37], line 29\u001b[0m\n\u001b[0;32m     25\u001b[0m db\u001b[39m.\u001b[39mdrop_collection(\u001b[39m\"\u001b[39m\u001b[39mstarships\u001b[39m\u001b[39m\"\u001b[39m)\n\u001b[0;32m     26\u001b[0m db\u001b[39m.\u001b[39mcreate_collection(\u001b[39m\"\u001b[39m\u001b[39mstarships\u001b[39m\u001b[39m\"\u001b[39m)  \u001b[39m#creating starships collection\u001b[39;00m\n\u001b[1;32m---> 29\u001b[0m \u001b[39mfor\u001b[39;00m pi \u001b[39min\u001b[39;00m pilots():\n\u001b[0;32m     30\u001b[0m     db\u001b[39m.\u001b[39mstarships\u001b[39m.\u001b[39minsert_one(pi)\n\u001b[0;32m     32\u001b[0m \u001b[39mprint\u001b[39m(\u001b[39m\"\u001b[39m\u001b[39mAll starships have been now added\u001b[39m\u001b[39m\"\u001b[39m)\n",
      "Cell \u001b[1;32mIn[37], line 3\u001b[0m, in \u001b[0;36mpilots\u001b[1;34m()\u001b[0m\n\u001b[0;32m      1\u001b[0m \u001b[39mdef\u001b[39;00m \u001b[39mpilots\u001b[39m():\n\u001b[0;32m      2\u001b[0m     starships \u001b[39m=\u001b[39m []\n\u001b[1;32m----> 3\u001b[0m     \u001b[39mfor\u001b[39;00m s \u001b[39min\u001b[39;00m scrape():\n\u001b[0;32m      4\u001b[0m         page \u001b[39m=\u001b[39m requests\u001b[39m.\u001b[39mget(s)\n\u001b[0;32m      5\u001b[0m         page \u001b[39m=\u001b[39m page\u001b[39m.\u001b[39mjson()\n",
      "Cell \u001b[1;32mIn[36], line 19\u001b[0m, in \u001b[0;36mscrape\u001b[1;34m()\u001b[0m\n\u001b[0;32m     17\u001b[0m starship_pages\u001b[39m=\u001b[39m[]\n\u001b[0;32m     18\u001b[0m response \u001b[39m=\u001b[39m requests\u001b[39m.\u001b[39mget(\u001b[39m\"\u001b[39m\u001b[39mhttps://swapi.dev/api/starships/\u001b[39m\u001b[39m\"\u001b[39m)\n\u001b[1;32m---> 19\u001b[0m \u001b[39mwhile\u001b[39;00m data[\u001b[39m'\u001b[39m\u001b[39mnext\u001b[39m\u001b[39m'\u001b[39m] \u001b[39mis\u001b[39;00m \u001b[39mnot\u001b[39;00m \u001b[39mNone\u001b[39;00m:\n\u001b[0;32m     20\u001b[0m     \u001b[39mprint\u001b[39m(\u001b[39m\"\u001b[39m\u001b[39mretrieving next page\u001b[39m\u001b[39m\"\u001b[39m, data[\u001b[39m\"\u001b[39m\u001b[39mnext\u001b[39m\u001b[39m\"\u001b[39m])\n\u001b[0;32m     21\u001b[0m     response \u001b[39m=\u001b[39m requests\u001b[39m.\u001b[39mget(data[\u001b[39m\"\u001b[39m\u001b[39mnext\u001b[39m\u001b[39m\"\u001b[39m])\n",
      "\u001b[1;31mUnboundLocalError\u001b[0m: local variable 'data' referenced before assignment"
     ]
    }
   ],
   "source": [
    "def pilots():\n",
    "    starships = []\n",
    "    for s in scrape():\n",
    "        page = requests.get(s)\n",
    "        page = page.json()\n",
    "        result = page['result']\n",
    "        info = result['info']\n",
    "        url = info[\"pilots\"]\n",
    "\n",
    "        names = []\n",
    "        for i in url:\n",
    "            pilot_content = requests.get(i)\n",
    "            pilot_content = pilot_content.json()\n",
    "            names.append(pilot_content['result']['info']['name'])\n",
    "\n",
    "        id = []\n",
    "        for n in names:\n",
    "            for name in db.characters.find({'name': i}):\n",
    "                id.append(name[\"_id\"])\n",
    "        page['result']['info']['pilots'] = id\n",
    "        starships.append(page)\n",
    "    return starships\n",
    "\n",
    "\n",
    "db.drop_collection(\"starships\")\n",
    "db.create_collection(\"starships\")  #creating starships collection\n",
    "\n",
    "\n",
    "for pi in pilots():\n",
    "    db.starships.insert_one(pi)\n",
    "\n",
    "print(\"All starships have been now added\")"
   ]
  },
  {
   "cell_type": "code",
   "execution_count": null,
   "metadata": {},
   "outputs": [],
   "source": [
    "def scrape():\n",
    "    starship_pages=[]\n",
    "    response = requests.get(\"https://swapi.dev/api/starships/\")\n",
    "    data = response.json()\n",
    "    while data['next'] is not None:\n",
    "        print(\"retrieving next page\", data[\"next\"])\n",
    "        response = requests.get(data[\"next\"])\n",
    "        data = response.json()\n",
    "        for i in data[\"results\"]:\n",
    "            starship_pages.append(i[\"url\"])\n",
    "    return starship_pages\n"
   ]
  }
 ],
 "metadata": {
  "kernelspec": {
   "display_name": "Python 3",
   "language": "python",
   "name": "python3"
  },
  "language_info": {
   "codemirror_mode": {
    "name": "ipython",
    "version": 3
   },
   "file_extension": ".py",
   "mimetype": "text/x-python",
   "name": "python",
   "nbconvert_exporter": "python",
   "pygments_lexer": "ipython3",
   "version": "3.10.9"
  },
  "orig_nbformat": 4,
  "vscode": {
   "interpreter": {
    "hash": "41019fb31f1aec115e4a243fbc676050df8a6109af9222662c9e55a9b452a2fd"
   }
  }
 },
 "nbformat": 4,
 "nbformat_minor": 2
}
