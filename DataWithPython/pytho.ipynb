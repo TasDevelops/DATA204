{
 "cells": [
  {
   "cell_type": "code",
   "execution_count": null,
   "metadata": {},
   "outputs": [],
   "source": [
    "\"\"\"\n",
    "5. For an int array, find a pair of numbers who's sum is closest to zero\n",
    "6. Shopping list: 2 items of the same price = 20% of their total and any item over £10 has 30% off. Find the total price\n",
    "7. For a String, create an array of all the duplicate letters\n",
    "8. Find the second highest number in an array\n",
    "9. Create a 2 value array which counts all the consonants and vowels in a string10. For any two strings, check if they contain the same letters11. For an int array, return the intervals between each of the ints\"\"\"\"\"\"\"\"\""
   ]
  },
  {
   "cell_type": "code",
   "execution_count": 114,
   "metadata": {},
   "outputs": [
    {
     "name": "stdout",
     "output_type": "stream",
     "text": [
      "24567"
     ]
    }
   ],
   "source": [
    "#1. Given an array of integers, convert them to a single int made up of the digits\n",
    "num_list= [2,4,5,6,7]\n",
    "for n in num_list:\n",
    "    print(n, end=\"\")\n",
    "\n"
   ]
  },
  {
   "cell_type": "code",
   "execution_count": 115,
   "metadata": {},
   "outputs": [
    {
     "name": "stdout",
     "output_type": "stream",
     "text": [
      "HLL, T WS NC T KNW Y WHL  DD\n"
     ]
    }
   ],
   "source": [
    "#2. Take a string and return it with all the vowels removed in uppercase\n",
    "\n",
    "text=\"hello, it was nice to know you while i did\"\n",
    "vowels = ['a', 'e', 'o', 'u','i']\n",
    "for t in text:\n",
    "    if t in vowels:\n",
    "        text = text.replace(t, '')\n",
    "print(text.upper())"
   ]
  },
  {
   "cell_type": "code",
   "execution_count": 116,
   "metadata": {},
   "outputs": [
    {
     "name": "stdout",
     "output_type": "stream",
     "text": [
      "[9, 11, 12]\n"
     ]
    }
   ],
   "source": [
    "#3. For an array of ints find the missing number in the array. The array might not be in order\n",
    "arr = [7,8,2,1,3,5,4,10, 6,13]\n",
    "missing_elements = []\n",
    "for i in range(arr[0], arr[-1]+1):\n",
    "    if i not in arr:\n",
    "        missing_elements.append(i)\n",
    "print(missing_elements)"
   ]
  },
  {
   "cell_type": "code",
   "execution_count": 117,
   "metadata": {},
   "outputs": [
    {
     "name": "stdout",
     "output_type": "stream",
     "text": [
      "5\n",
      "(1, 4)\n"
     ]
    }
   ],
   "source": [
    "# 4 For an int array, find a pair of numbers who's sum is closest to zero\n",
    "\n",
    "\n",
    "def sum_pair(list):\n",
    "    first = list[0] \n",
    "    second = list[1]\n",
    "    for i in range(1, len(list)): \n",
    "        if list[i] < first or list[i] < second: \n",
    "            first = list[i] \n",
    "    print(first +second)\n",
    "    return first,second\n",
    "\n",
    "print(sum_pair([11,4,1,9,5]))"
   ]
  },
  {
   "cell_type": "code",
   "execution_count": 118,
   "metadata": {},
   "outputs": [],
   "source": [
    " #5 Shopping list: 2 items of the same price = 20% of their total and any item over £10 has 30% off. Find the total price\n",
    " "
   ]
  },
  {
   "cell_type": "code",
   "execution_count": 119,
   "metadata": {},
   "outputs": [
    {
     "name": "stdout",
     "output_type": "stream",
     "text": [
      "45\n"
     ]
    }
   ],
   "source": [
    "#7 Find the second highest number in an array\n",
    "list1 = [10, 20, 4, 45, 99]\n",
    "new_list = set(list1)\n",
    "new_list.remove(max(new_list))\n",
    "print(max(new_list))"
   ]
  },
  {
   "cell_type": "code",
   "execution_count": 120,
   "metadata": {},
   "outputs": [
    {
     "name": "stdout",
     "output_type": "stream",
     "text": [
      "[22, 4, 6]\n"
     ]
    }
   ],
   "source": [
    "#find even numbers\n",
    "list = [33,22,11,4,5,6]\n",
    "list1 = []\n",
    "for i in list:\n",
    "    if i %2 ==0 :\n",
    "        list1.append(i)\n",
    "print(list1)"
   ]
  },
  {
   "cell_type": "code",
   "execution_count": 121,
   "metadata": {},
   "outputs": [
    {
     "name": "stdout",
     "output_type": "stream",
     "text": [
      "(['E', 'e', 'o', 'o', 'o', 'o'], ['H', 'l', 'l', 'l'])\n"
     ]
    }
   ],
   "source": [
    "#find vowels and constants\n",
    "\n",
    "v = []\n",
    "c = []\n",
    "vowel = ['a', 'e', 'i', 'o', 'u']\n",
    "\n",
    "def find_vowel(word):\n",
    "\n",
    "    for i in word:\n",
    "        if i.lower() in vowel:\n",
    "            v.append(i)\n",
    "        if i.lower() not in vowel:\n",
    "            c.append(i)\n",
    "    return v, c\n",
    "\n",
    "print(find_vowel(\"HEellloooo\"))"
   ]
  },
  {
   "cell_type": "code",
   "execution_count": 122,
   "metadata": {},
   "outputs": [
    {
     "name": "stdout",
     "output_type": "stream",
     "text": [
      "[4, 15, 12]\n"
     ]
    }
   ],
   "source": [
    "#10 For an int array, return the intervals between each of the ints\n",
    "numbers = [1, 5, 20, 32]\n",
    "def intervals(numbers):\n",
    "    intervals = []\n",
    "    for i in range(len(numbers) - 1):\n",
    "        intervals.append(numbers[i+1] - numbers[i])\n",
    "    return intervals\n",
    "print(intervals(numbers))"
   ]
  },
  {
   "cell_type": "code",
   "execution_count": 123,
   "metadata": {},
   "outputs": [],
   "source": [
    "#find what letters two strings have in common\n",
    "def contains(big_string, little_string):\n",
    "  return little_string in big_string\n",
    "\n",
    "def common_letters(string_one, string_two):\n",
    "  common = []\n",
    "  for letter in string_one:\n",
    "    if (letter in string_two) and not (letter in common):\n",
    "      common.append(letter)\n",
    "  return common\n"
   ]
  },
  {
   "cell_type": "code",
   "execution_count": 124,
   "metadata": {},
   "outputs": [],
   "source": [
    "def len_letters(string_one, string_two):\n",
    "  common = []\n",
    "  for letter in string_one:\n",
    "    if (letter in string_two) and not (letter in common):\n",
    "      common.append(letter)\n",
    "  return common"
   ]
  },
  {
   "cell_type": "code",
   "execution_count": 125,
   "metadata": {},
   "outputs": [
    {
     "name": "stdout",
     "output_type": "stream",
     "text": [
      "False\n"
     ]
    }
   ],
   "source": [
    "def strcompare(a, b):\n",
    "    for i in a:\n",
    "        if i not in b:\n",
    "            return False\n",
    "    return True\n",
    "print(strcompare('Yasmina', 'Tasnim'))"
   ]
  },
  {
   "cell_type": "code",
   "execution_count": 126,
   "metadata": {},
   "outputs": [
    {
     "name": "stdout",
     "output_type": "stream",
     "text": [
      "aimns\n"
     ]
    }
   ],
   "source": [
    "string1 = 'Tasnim'\n",
    "string2 ='Yasmina'\n",
    "string1 = set(string1)\n",
    "string2 = set(string2)\n",
    "\n",
    "print(''.join(sorted(string1.intersection(string2))))"
   ]
  },
  {
   "cell_type": "code",
   "execution_count": 127,
   "metadata": {},
   "outputs": [
    {
     "data": {
      "text/plain": [
       "['a', 's', 'm', 'i', 'n']"
      ]
     },
     "execution_count": 127,
     "metadata": {},
     "output_type": "execute_result"
    }
   ],
   "source": [
    "#return common letters in strings\n",
    "common=[]\n",
    "def common_letter(letter1,letter2):\n",
    "    for i in letter1:\n",
    "        if  (i in letter2) and not (i in common):\n",
    "            common.append(i)\n",
    "    return common \n",
    "common_letter(\"Yasmina\",\"Tasnim\")"
   ]
  },
  {
   "cell_type": "code",
   "execution_count": 128,
   "metadata": {},
   "outputs": [
    {
     "data": {
      "text/plain": [
       "False"
      ]
     },
     "execution_count": 128,
     "metadata": {},
     "output_type": "execute_result"
    }
   ],
   "source": [
    "def common_letter(letter1,letter2):\n",
    "    if len(letter1)==len(letter2):\n",
    "        return True\n",
    "    else:\n",
    "        return False\n",
    "            \n",
    "common_letter(\"Yasmina\",\"Tasnim\")"
   ]
  },
  {
   "cell_type": "code",
   "execution_count": 129,
   "metadata": {},
   "outputs": [],
   "source": [
    "def number_length(a, b):\n",
    "    a='jhsfjdsfj'\n",
    "    b='dslkhjfgdsgfdgfdh'\n",
    "    return len(str(a,b))"
   ]
  },
  {
   "cell_type": "code",
   "execution_count": 130,
   "metadata": {},
   "outputs": [
    {
     "data": {
      "text/plain": [
       "(7, 6)"
      ]
     },
     "execution_count": 130,
     "metadata": {},
     "output_type": "execute_result"
    }
   ],
   "source": [
    "# length of numbers \n",
    "def common_letter(letter1,letter2):\n",
    "    let1 = len(letter1)\n",
    "    let2 = len(letter2)\n",
    "    return let1, let2\n",
    "common_letter(\"Yasmina\",\"Tasnim\")\n",
    "\n",
    "\n",
    "\n"
   ]
  },
  {
   "cell_type": "code",
   "execution_count": 131,
   "metadata": {},
   "outputs": [
    {
     "name": "stdout",
     "output_type": "stream",
     "text": [
      "1\n"
     ]
    }
   ],
   "source": [
    "#string differences\n",
    "\n",
    "letter1 = 'Yasmina'\n",
    "letter2= 'Tasnim'\n",
    "\n",
    "a = len(letter1)\n",
    "b = len(letter2)\n",
    "c=a-b\n",
    "print(c)"
   ]
  },
  {
   "cell_type": "code",
   "execution_count": 132,
   "metadata": {},
   "outputs": [],
   "source": [
    "string1= 'helloyay'\n",
    "def find_dup_char():\n",
    "    x=[]\n",
    "    for s in string1:\n",
    "        if s not in x and s.count(s)>1:\n",
    "            x.append(s)\n",
    "    print(\" \".join(x))"
   ]
  },
  {
   "cell_type": "code",
   "execution_count": 133,
   "metadata": {},
   "outputs": [
    {
     "ename": "TypeError",
     "evalue": "'list' object is not callable",
     "output_type": "error",
     "traceback": [
      "\u001b[1;31m---------------------------------------------------------------------------\u001b[0m",
      "\u001b[1;31mTypeError\u001b[0m                                 Traceback (most recent call last)",
      "Cell \u001b[1;32mIn[133], line 13\u001b[0m\n\u001b[0;32m     11\u001b[0m             letters[letter] \u001b[39m=\u001b[39m \u001b[39m1\u001b[39m\n\u001b[0;32m     12\u001b[0m     \u001b[39mreturn\u001b[39;00m \u001b[39mlist\u001b[39m(\u001b[39mset\u001b[39m(duplicates))\n\u001b[1;32m---> 13\u001b[0m \u001b[39mprint\u001b[39m(get_duplicate_letters(\u001b[39m\"\u001b[39;49m\u001b[39mhelloooo\u001b[39;49m\u001b[39m\"\u001b[39;49m))\n",
      "Cell \u001b[1;32mIn[133], line 12\u001b[0m, in \u001b[0;36mget_duplicate_letters\u001b[1;34m(string)\u001b[0m\n\u001b[0;32m     10\u001b[0m     \u001b[39melse\u001b[39;00m:\n\u001b[0;32m     11\u001b[0m         letters[letter] \u001b[39m=\u001b[39m \u001b[39m1\u001b[39m\n\u001b[1;32m---> 12\u001b[0m \u001b[39mreturn\u001b[39;00m \u001b[39mlist\u001b[39;49m(\u001b[39mset\u001b[39;49m(duplicates))\n",
      "\u001b[1;31mTypeError\u001b[0m: 'list' object is not callable"
     ]
    }
   ],
   "source": [
    "#finding duplicates \n",
    "\n",
    "def get_duplicate_letters(string):\n",
    "    letters = {}\n",
    "    duplicates = []\n",
    "    for letter in string:\n",
    "        if letter in letters:\n",
    "            letters[letter] += 1\n",
    "            duplicates.append(letter)\n",
    "        else:\n",
    "            letters[letter] = 1\n",
    "    return list(set(duplicates))\n",
    "print(get_duplicate_letters(\"helloooo\"))"
   ]
  },
  {
   "cell_type": "code",
   "execution_count": null,
   "metadata": {},
   "outputs": [],
   "source": [
    "# 9. Create a 2 value array which counts all the consonants and vowels in a string\n",
    "v = []\n",
    "c = []\n",
    "vowel = ['a', 'e', 'i', 'o', 'u']\n",
    "\n",
    "def find_vowel(word):\n",
    "\n",
    "    for i in word:\n",
    "        if i.lower() in vowel:\n",
    "            v.append(i)\n",
    "        if i.lower() not in vowel:\n",
    "            c.append(i)\n",
    "    return len(v),len(c)\n",
    "\n",
    "print(find_vowel(\"Yasmina\"))"
   ]
  },
  {
   "cell_type": "code",
   "execution_count": null,
   "metadata": {},
   "outputs": [],
   "source": [
    "# 10. For any two strings, how many letters are the same\n",
    "common=[]\n",
    "def common_letter(letter1,letter2):\n",
    "    for i in letter1:\n",
    "        if  (i in letter2) and not (i in common):\n",
    "            common.append(i)\n",
    "    return len(common) \n",
    "print(common_letter(\"Yasmina\",\"Tasnim\"))"
   ]
  }
 ],
 "metadata": {
  "kernelspec": {
   "display_name": "Python 3",
   "language": "python",
   "name": "python3"
  },
  "language_info": {
   "codemirror_mode": {
    "name": "ipython",
    "version": 3
   },
   "file_extension": ".py",
   "mimetype": "text/x-python",
   "name": "python",
   "nbconvert_exporter": "python",
   "pygments_lexer": "ipython3",
   "version": "3.10.9"
  },
  "orig_nbformat": 4,
  "vscode": {
   "interpreter": {
    "hash": "41019fb31f1aec115e4a243fbc676050df8a6109af9222662c9e55a9b452a2fd"
   }
  }
 },
 "nbformat": 4,
 "nbformat_minor": 2
}
