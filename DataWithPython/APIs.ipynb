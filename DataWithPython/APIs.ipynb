{
 "cells": [
  {
   "cell_type": "code",
   "execution_count": 9,
   "metadata": {},
   "outputs": [
    {
     "name": "stdout",
     "output_type": "stream",
     "text": [
      "<Response [200]>\n"
     ]
    },
    {
     "data": {
      "text/plain": [
       "'{\"status\":200,\"result\":{\"postcode\":\"SW4 0PW\",\"quality\":1,\"eastings\":528600,\"northings\":175460,\"country\":\"England\",\"nhs_ha\":\"London\",\"longitude\":-0.150166,\"latitude\":51.463511,\"european_electoral_region\":\"London\",\"primary_care_trust\":\"Lambeth\",\"region\":\"London\",\"lsoa\":\"Lambeth 013E\",\"msoa\":\"Lambeth 013\",\"incode\":\"0PW\",\"outcode\":\"SW4\",\"parliamentary_constituency\":\"Vauxhall\",\"admin_district\":\"Lambeth\",\"parish\":\"Lambeth, unparished area\",\"admin_county\":null,\"date_of_introduction\":\"198001\",\"admin_ward\":\"Clapham Town\",\"ced\":null,\"ccg\":\"NHS South East London\",\"nuts\":\"Lambeth\",\"pfa\":\"Metropolitan Police\",\"codes\":{\"admin_district\":\"E09000022\",\"admin_county\":\"E99999999\",\"admin_ward\":\"E05014102\",\"parish\":\"E43000212\",\"parliamentary_constituency\":\"E14001008\",\"ccg\":\"E38000244\",\"ccg_id\":\"72Q\",\"ced\":\"E99999999\",\"nuts\":\"TLI45\",\"lsoa\":\"E01003042\",\"msoa\":\"E02000630\",\"lau2\":\"E09000022\",\"pfa\":\"E23000001\"}}}'"
      ]
     },
     "execution_count": 9,
     "metadata": {},
     "output_type": "execute_result"
    }
   ],
   "source": [
    "import requests\n",
    "import json\n",
    "\n",
    "data = requests.get(\"https://api.postcodes.io/postcodes/sw40pw?\")\n",
    "print(data)\n",
    "data.text"
   ]
  },
  {
   "cell_type": "code",
   "execution_count": 14,
   "metadata": {},
   "outputs": [
    {
     "data": {
      "text/plain": [
       "200"
      ]
     },
     "execution_count": 14,
     "metadata": {},
     "output_type": "execute_result"
    }
   ],
   "source": [
    "return_data=data.json()\n",
    "return_data['status']"
   ]
  },
  {
   "cell_type": "code",
   "execution_count": null,
   "metadata": {},
   "outputs": [],
   "source": []
  }
 ],
 "metadata": {
  "kernelspec": {
   "display_name": "Python 3",
   "language": "python",
   "name": "python3"
  },
  "language_info": {
   "codemirror_mode": {
    "name": "ipython",
    "version": 3
   },
   "file_extension": ".py",
   "mimetype": "text/x-python",
   "name": "python",
   "nbconvert_exporter": "python",
   "pygments_lexer": "ipython3",
   "version": "3.10.9 (tags/v3.10.9:1dd9be6, Dec  6 2022, 20:01:21) [MSC v.1934 64 bit (AMD64)]"
  },
  "orig_nbformat": 4,
  "vscode": {
   "interpreter": {
    "hash": "41019fb31f1aec115e4a243fbc676050df8a6109af9222662c9e55a9b452a2fd"
   }
  }
 },
 "nbformat": 4,
 "nbformat_minor": 2
}
